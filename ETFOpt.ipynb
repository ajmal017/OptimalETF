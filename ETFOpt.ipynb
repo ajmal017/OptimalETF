{
 "cells": [
  {
   "cell_type": "code",
   "execution_count": 14,
   "metadata": {},
   "outputs": [
    {
     "name": "stdout",
     "output_type": "stream",
     "text": [
      "220\n"
     ]
    }
   ],
   "source": [
    "# A naive recursive implementation \n",
    "# of 0-1 Knapsack Problem \n",
    "  \n",
    "# Returns the maximum value that  \n",
    "# can be put in a knapsack of  \n",
    "# capacity W \n",
    "idx_used = []\n",
    "\n",
    "def knapSack(W, wt, val, n): \n",
    "    \n",
    "    # Base Case \n",
    "    if n == 0 or W == 0 : \n",
    "        return 0\n",
    "  \n",
    "    # If weight of the nth item is  \n",
    "    # more than Knapsack of capacity W,  \n",
    "    # then this item cannot be included  \n",
    "    # in the optimal solution \n",
    "    if (wt[n-1] > W): \n",
    "        return knapSack(W, wt, val, n-1) \n",
    "  \n",
    "    # return the maximum of two cases: \n",
    "    # (1) nth item included \n",
    "    # (2) not included \n",
    "    incl = val[n-1] + knapSack(W-wt[n-1], wt, val, n-1)\n",
    "    not_incl = knapSack(W, wt, val, n-1)\n",
    "    if not_incl > incl:\n",
    "        print(f'Skipped item {n} -- {val[n] -- wt[n]}')\n",
    "        \n",
    "    #print(val[n-1] + knapSack(W-wt[n-1], wt, val, n-1))\n",
    "    #print('vs')\n",
    "    #print(knapSack(W, wt, val, n-1))\n",
    "\n",
    "    return max( \n",
    "        val[n-1] + knapSack( \n",
    "            W-wt[n-1], wt, val, n-1),  \n",
    "            knapSack(W, wt, val, n-1)) \n",
    "  \n",
    "# end of function knapSack \n",
    "  \n",
    "# To test above function \n",
    "val = [60, 100, 120] \n",
    "wt = [10, 20, 30] \n",
    "W = 50\n",
    "n = len(val) \n",
    "print(knapSack(W, wt, val, n) )"
   ]
  },
  {
   "cell_type": "code",
   "execution_count": 11,
   "metadata": {},
   "outputs": [
    {
     "name": "stdout",
     "output_type": "stream",
     "text": [
      "[[0, 0, 0, 0, 0, 0, 0, 0, 0, 0, 0, 0, 0, 0, 0, 0, 0, 0, 0, 0, 0, 0, 0, 0, 0, 0, 0, 0, 0, 0, 0, 0, 0, 0, 0, 0, 0, 0, 0, 0, 0, 0, 0, 0, 0, 0, 0, 0, 0, 0, 0], [0, 0, 0, 0, 0, 0, 0, 0, 0, 0, 60, 60, 60, 60, 60, 60, 60, 60, 60, 60, 60, 60, 60, 60, 60, 60, 60, 60, 60, 60, 60, 60, 60, 60, 60, 60, 60, 60, 60, 60, 60, 60, 60, 60, 60, 60, 60, 60, 60, 60, 60], [0, 0, 0, 0, 0, 0, 0, 0, 0, 0, 60, 60, 60, 60, 60, 60, 60, 60, 60, 60, 100, 100, 100, 100, 100, 100, 100, 100, 100, 100, 160, 160, 160, 160, 160, 160, 160, 160, 160, 160, 160, 160, 160, 160, 160, 160, 160, 160, 160, 160, 160], [0, 0, 0, 0, 0, 0, 0, 0, 0, 0, 60, 60, 60, 60, 60, 60, 60, 60, 60, 60, 100, 100, 100, 100, 100, 100, 100, 100, 100, 100, 160, 160, 160, 160, 160, 160, 160, 160, 160, 160, 180, 180, 180, 180, 180, 180, 180, 180, 180, 180, 220]]\n",
      "220\n"
     ]
    }
   ],
   "source": [
    "# Returns the maximum value that can  \n",
    "# be put in a knapsack of capacity W \n",
    "def knapSack(W, wt, val, n): \n",
    "    K = [[0 for x in range(W + 1)] for x in range(n + 1)] \n",
    "  \n",
    "    # Build table K[][] in bottom up manner \n",
    "    for i in range(n + 1): \n",
    "        for w in range(W + 1): \n",
    "            if i == 0 or w == 0: \n",
    "                K[i][w] = 0\n",
    "            elif wt[i-1] <= w: \n",
    "                K[i][w] = max(val[i-1]  \n",
    "+ K[i-1][w-wt[i-1]],  K[i-1][w]) \n",
    "            else: \n",
    "                K[i][w] = K[i-1][w] \n",
    "    print(K)\n",
    "    return K[n][W] \n",
    "  \n",
    "# Driver program to test above function \n",
    "val = [60, 100, 120] \n",
    "wt = [10, 20, 30] \n",
    "W = 50\n",
    "n = len(val) \n",
    "print(knapSack(W, wt, val, n)) \n",
    "  \n"
   ]
  },
  {
   "cell_type": "code",
   "execution_count": null,
   "metadata": {},
   "outputs": [],
   "source": [
    "'''ORIGINAL'''\n",
    "\n",
    "# A naive recursive implementation \n",
    "# of 0-1 Knapsack Problem \n",
    "  \n",
    "# Returns the maximum value that  \n",
    "# can be put in a knapsack of  \n",
    "# capacity W \n",
    "idx_used = []\n",
    "\n",
    "def knapSack(W, wt, val, n): \n",
    "    \n",
    "    # Base Case \n",
    "    if n == 0 or W == 0 : \n",
    "        return 0\n",
    "  \n",
    "    # If weight of the nth item is  \n",
    "    # more than Knapsack of capacity W,  \n",
    "    # then this item cannot be included  \n",
    "    # in the optimal solution \n",
    "    if (wt[n-1] > W): \n",
    "        return knapSack(W, wt, val, n-1) \n",
    "  \n",
    "    # return the maximum of two cases: \n",
    "    # (1) nth item included \n",
    "    # (2) not included \n",
    "    '''TO BUILD MORE SPECIFIC -- need to TEST if better, then mark it as being used...'''\n",
    "    \n",
    "    print(val[n-1] + knapSack(W-wt[n-1], wt, val, n-1))\n",
    "    print('vs')\n",
    "    print(knapSack(W, wt, val, n-1))\n",
    "\n",
    "    return max( \n",
    "        val[n-1] + knapSack( \n",
    "            W-wt[n-1], wt, val, n-1),  \n",
    "            knapSack(W, wt, val, n-1)) \n",
    "  \n",
    "# end of function knapSack \n",
    "  \n",
    "# To test above function \n",
    "val = [60, 100, 120] \n",
    "wt = [10, 20, 30] \n",
    "W = 50\n",
    "n = len(val) \n",
    "print(knapSack(W, wt, val, n) )"
   ]
  },
  {
   "cell_type": "code",
   "execution_count": 32,
   "metadata": {},
   "outputs": [
    {
     "name": "stdout",
     "output_type": "stream",
     "text": [
      "220\n"
     ]
    },
    {
     "data": {
      "text/plain": [
       "[(100, 60),\n",
       " (120, 100),\n",
       " (100, 60),\n",
       " (100, 60),\n",
       " (100, 60),\n",
       " (120, 160),\n",
       " (100, 60),\n",
       " (100, 60),\n",
       " 220,\n",
       " (100, 60),\n",
       " (120, 100),\n",
       " (100, 60),\n",
       " (100, 60),\n",
       " (100, 60),\n",
       " (120, 160),\n",
       " (100, 60),\n",
       " (100, 60)]"
      ]
     },
     "execution_count": 32,
     "metadata": {},
     "output_type": "execute_result"
    }
   ],
   "source": [
    "included = []\n",
    "def etfOpt(W, wt, val, n): \n",
    "    \n",
    "    # Base Case \n",
    "    if n == 0 or W == 0 : \n",
    "        return 0\n",
    "  \n",
    "    # If weight of the nth item is more than capacity W,  \n",
    "    # then this item cannot be included in the optimal solution \n",
    "    if (wt[n-1] > W): \n",
    "        return etfOpt(W, wt, val, n-1) \n",
    "  \n",
    "    #Modified version of Fractinal backpack algo -- Misrha Prashani 99\n",
    "    incl = val[n-1] + etfOpt(W-wt[n-1], wt, val, n-1)\n",
    "    not_incl = etfOpt(W, wt, val, n-1)\n",
    "    \n",
    "    if not_incl > incl:\n",
    "        print(f'Skipped item {n} -- {val[n] -- wt[n]}')\n",
    "    else:\n",
    "        #print(val[n],wt[n])\n",
    "        #included.append(val[n]) #Why not working?\n",
    "        try:\n",
    "\n",
    "            included.append((val[n],incl))\n",
    "        except:\n",
    "            included.append(incl)\n",
    "\n",
    "    # return the maximum of two cases: \n",
    "    # (1) nth item included \n",
    "    # (2) not included \n",
    "    return max( \n",
    "        val[n-1] + etfOpt( \n",
    "            W-wt[n-1], wt, val, n-1),  \n",
    "            etfOpt(W, wt, val, n-1)) \n",
    "\n",
    "\n",
    "val = [60, 100, 120] \n",
    "wt = [10, 20, 30] \n",
    "W = 50\n",
    "n = len(val) \n",
    "print(etfOpt(W, wt, val, n) )\n",
    "included"
   ]
  },
  {
   "cell_type": "code",
   "execution_count": 33,
   "metadata": {},
   "outputs": [
    {
     "data": {
      "text/plain": [
       "'Try doing this by hand -- using AlgoStart Git I wrote for optimizing starting values...\\nSimply add DP / Recursion to that problem! \\n    -Break out segments... find USD value range for those segments.\\n        -Recursively optimize that small segment\\n    -Optimize Large Segment (Of Optimized segments)\\n'"
      ]
     },
     "execution_count": 33,
     "metadata": {},
     "output_type": "execute_result"
    }
   ],
   "source": [
    "'''Try doing this by hand -- using AlgoStart Git I wrote for optimizing starting values...\n",
    "Simply add DP / Recursion to that problem! \n",
    "    -Break out segments... find USD value range for those segments.\n",
    "        -Recursively optimize that small segment\n",
    "    -Optimize Large Segment (Of Optimized segments)\n",
    "'''\n"
   ]
  },
  {
   "cell_type": "code",
   "execution_count": 45,
   "metadata": {},
   "outputs": [
    {
     "data": {
      "text/plain": [
       "{1: {'USEq': 0.4, 'IntEq': 0.25, 'EMEq': 0.25, 'EMFi': 0.03, 'USFi': 0.07},\n",
       " 2: {'USEq': 0.3, 'IntEq': 0.2, 'EMEq': 0.2, 'EMFi': 0.07, 'USFi': 0.23}}"
      ]
     },
     "execution_count": 45,
     "metadata": {},
     "output_type": "execute_result"
    }
   ],
   "source": [
    "'''Turn into class!'''\n",
    "\n",
    "model_pfs = {\n",
    "    1: {\n",
    "        'USEq':.4,\n",
    "        'IntEq':.25,\n",
    "        'EMEq':.25,\n",
    "        'EMFi':.03,\n",
    "        'USFi':.07\n",
    "        \n",
    "    }\n",
    "}\n",
    "\n",
    "'''Add to model_pfs'''\n",
    "PF2 = {\n",
    "    'USEq':.3,\n",
    "    'IntEq':.2,\n",
    "    'EMEq':.2,\n",
    "    'EMFi':.07,\n",
    "    'USFi':.23\n",
    "}\n",
    "\n",
    "\n",
    "model_pfs[2] = PF2\n",
    "model_pfs"
   ]
  },
  {
   "cell_type": "code",
   "execution_count": 59,
   "metadata": {},
   "outputs": [
    {
     "data": {
      "text/plain": [
       "{'USEq': [('VOO', 0.005), ('QQQ', 0.015), ('SPY', 0.017)]}"
      ]
     },
     "execution_count": 59,
     "metadata": {},
     "output_type": "execute_result"
    }
   ],
   "source": [
    "'''Optimal ETFs (CAN query probably, either quandl, simfin, intrinio, polygon, or IB / TD directly )'''\n",
    "#Obviously this would be built out into a much better list.\n",
    "\n",
    "\n",
    "optimal_etfs = {\n",
    "    'USEq':['VOO','SPY'],\n",
    "    'IntEq':['INTNTL'],\n",
    "    'EMEq':['EEM','EFM'],\n",
    "    'EMFi':['EVF'],\n",
    "    'USFi':['BND']\n",
    "}\n",
    "\n",
    "'''Include exp ratios ? -- a viable option ... maybe should make this a dataclass at this point though?'''\n",
    "\n",
    "#POSSIBLY added as LISTS of Ticker, ExpRatio PAIRS -- 'USEq': [('VOO',.005), ('SPY',.015)]\n",
    "nested_etfs = {\n",
    "    'USEq':[('VOO',.005),('SPY',.017),('QQQ',.015)]\n",
    "}\n",
    "\n",
    "sort_by_exp_ratio = sorted(nested_etfs['USEq'],key = lambda xy: xy[1])\n",
    "sort_by_exp_ratio\n",
    "\n",
    "nested_etfs['USEq'] = sorted(nested_etfs['USEq'], key = lambda xy: xy[1])\n",
    "nested_etfs"
   ]
  },
  {
   "cell_type": "code",
   "execution_count": 74,
   "metadata": {},
   "outputs": [
    {
     "data": {
      "text/plain": [
       "{1: {'USEq': 0.4, 'IntEq': 0.25, 'EMEq': 0.25, 'EMFi': 0.03, 'USFi': 0.07},\n",
       " 2: {'USEq': 0.3, 'IntEq': 0.2, 'EMEq': 0.2, 'EMFi': 0.07, 'USFi': 0.23}}"
      ]
     },
     "execution_count": 74,
     "metadata": {},
     "output_type": "execute_result"
    }
   ],
   "source": [
    "'''Frozen DataClass (?) -- and/or research how best to extend dict class'''\n",
    "#Temp global...\n",
    "MODEL_PFS = model_pfs\n",
    "\n",
    "class ModelPFs:\n",
    "    model_pfs = MODEL_PFS\n",
    "    \n",
    "    #Later, this would be queried...\n",
    "    exp_ratios = {\n",
    "        'VOO':.005,\n",
    "        'SPY':.015,\n",
    "        'INTNTL':.023,\n",
    "        'EEM':.035,\n",
    "        'EFM':.033,\n",
    "        'EVF':.022,\n",
    "        'BND':.011\n",
    "    }\n",
    "    \n",
    "    def __init__(self,opt_etfs = None):\n",
    "        #Optimal etfs passed in here? \n",
    "        if opt_etfs is None:\n",
    "            self.opt_etfs = optimal_etfs\n",
    "            \n",
    "        self.final_PF_wts = {}\n",
    "        self.eff_exp = 0\n",
    "\n",
    "    \n",
    "    #def __get__(self):\n",
    "    #    pass\n",
    "    \n",
    "    def modify_model_allocs(self, pf_number, asset_classes, new_allocs):\n",
    "        '''Ex --- [USEq, IntEq], [.3,.2]'''\n",
    "        #WILL NEED TO CHANGE 2 at once!\n",
    "        #self.model_pfs[pf_number][asset_classes][0] = new_allocs[0]\n",
    "        assert len(asset_classes) == len(new_allocs), 'ERROR -- asset_classes and new_allocs must be equal length'\n",
    "        diff = 0\n",
    "        old_vals = []\n",
    "        for asset, alloc in zip(asset_classes, new_allocs):\n",
    "            old = self.model_pfs[pf_number][asset]\n",
    "            old_vals += [old]\n",
    "            diff += alloc - old\n",
    "            self.model_pfs[pf_number][asset] = alloc\n",
    "            \n",
    "        if diff != 0:\n",
    "            print('ERROR -- cannot make values > 1.0 total.  Reverting to original')\n",
    "            for asset, alloc in zip(asset_classes, old_vals):\n",
    "                self.model_pfs[pf_number][asset] = alloc\n",
    "            \n",
    "        return self.model_pfs[pf_number]\n",
    "    \n",
    "    def replace_model_pf(self, pf_number, new_pf_dict):\n",
    "        #pf = self.model_pfs[pf_number]\n",
    "        total = sum([v for k,v in new_pf_dict.items()])\n",
    "        assert sum([v for k,v in new_pf_dict.items()]) == 1, 'ERROR -- Allocation of new PF is > 1.0 (100%) total.'\n",
    "        \n",
    "        self.model_pfs[pf_number] = new_pf_dict\n",
    "        return self.model_pfs[pf_number]\n",
    "    \n",
    "    def remove_model_pf(self, pf_number):\n",
    "        #del self.model_pfs[pf_number] -- less safe version...\n",
    "        self.model_pfs.pop(pf_number, 'No Key found') \n",
    "        \n",
    "    #Look at best way to include exp ratios...\n",
    "    def optimize_by_exp_ratio(self, pf_number,asset_class):\n",
    "        pf = self.model_pfs[pf_number]\n",
    "        seg = pf[asset_class]\n",
    "        etf_options = self.opt_etfs[asset_class]\n",
    "        \n",
    "        sorted_by_exp_ratio = sorted([(etf,exp) for etf, exp in self.exp_ratios.items() if etf in etf_options], key = lambda xy: xy[1])\n",
    "        print(sorted_by_exp_ratio[0])\n",
    "        return sorted_by_exp_ratio[0]\n",
    "    \n",
    "    def optimize_model_pf(self, pf_number):\n",
    "        pf = self.model_pfs[pf_number]\n",
    "        segs = list(pf.keys())\n",
    "        \n",
    "        PF = {}\n",
    "        total_exp = 0\n",
    "        eff_exp = 0\n",
    "        for seg in segs:\n",
    "            holding, exp = self.optimize_by_exp_ratio(pf_number, seg)\n",
    "            \n",
    "            wt = pf[seg]\n",
    "            PF[holding] = pf[seg]\n",
    "            \n",
    "            total_exp += exp\n",
    "            eff_exp += exp * wt\n",
    "            \n",
    "        print(\"Avg Expense Ratio\",total_exp / len(segs))\n",
    "        print(f'Effective Expense Ratio: {eff_exp}')\n",
    "        self.eff_exp = eff_exp\n",
    "        self.final_PF_wts = PF\n",
    "            \n",
    "            \n",
    "        \n",
    "mpf = ModelPFs()\n",
    "mpf.opt_etfs\n",
    "mpf.model_pfs"
   ]
  },
  {
   "cell_type": "code",
   "execution_count": 72,
   "metadata": {},
   "outputs": [
    {
     "name": "stdout",
     "output_type": "stream",
     "text": [
      "('VOO', 0.005)\n"
     ]
    },
    {
     "data": {
      "text/plain": [
       "('VOO', 0.005)"
      ]
     },
     "execution_count": 72,
     "metadata": {},
     "output_type": "execute_result"
    }
   ],
   "source": [
    "mpf.optimize_by_exp_ratio(1,'USEq')"
   ]
  },
  {
   "cell_type": "code",
   "execution_count": 75,
   "metadata": {},
   "outputs": [
    {
     "name": "stdout",
     "output_type": "stream",
     "text": [
      "('VOO', 0.005)\n",
      "('INTNTL', 0.023)\n",
      "('EFM', 0.033)\n",
      "('EVF', 0.022)\n",
      "('BND', 0.011)\n",
      "Avg Expense Ratio 0.018799999999999997\n",
      "Effective Expense Ratio: 0.01743\n"
     ]
    }
   ],
   "source": [
    "mpf.optimize_model_pf(1)"
   ]
  },
  {
   "cell_type": "code",
   "execution_count": null,
   "metadata": {},
   "outputs": [],
   "source": []
  }
 ],
 "metadata": {
  "kernelspec": {
   "display_name": "Python 3",
   "language": "python",
   "name": "python3"
  },
  "language_info": {
   "codemirror_mode": {
    "name": "ipython",
    "version": 3
   },
   "file_extension": ".py",
   "mimetype": "text/x-python",
   "name": "python",
   "nbconvert_exporter": "python",
   "pygments_lexer": "ipython3",
   "version": "3.7.4"
  }
 },
 "nbformat": 4,
 "nbformat_minor": 4
}
